{
  "nbformat": 4,
  "nbformat_minor": 0,
  "metadata": {
    "colab": {
      "provenance": [],
      "authorship_tag": "ABX9TyOSslOwbjrAP8wG08OFSY7t",
      "include_colab_link": true
    },
    "kernelspec": {
      "name": "python3",
      "display_name": "Python 3"
    },
    "language_info": {
      "name": "python"
    }
  },
  "cells": [
    {
      "cell_type": "markdown",
      "metadata": {
        "id": "view-in-github",
        "colab_type": "text"
      },
      "source": [
        "<a href=\"https://colab.research.google.com/github/shimorais/cadastro-cpfcnpj/blob/main/Lista_de_N%C3%BAmeros.ipynb\" target=\"_parent\"><img src=\"https://colab.research.google.com/assets/colab-badge.svg\" alt=\"Open In Colab\"/></a>"
      ]
    },
    {
      "cell_type": "code",
      "execution_count": 3,
      "metadata": {
        "colab": {
          "base_uri": "https://localhost:8080/"
        },
        "id": "2XXQGJtcmILE",
        "outputId": "cd5e6352-dba9-496c-c4d4-66366475dbe3"
      },
      "outputs": [
        {
          "output_type": "stream",
          "name": "stdout",
          "text": [
            "1 é um número ímpar. \n",
            "2 é um número par.\n",
            "3 é um número ímpar. \n",
            "4 é um número par.\n",
            "5 é um número ímpar. \n",
            "6 é um número par.\n",
            "7 é um número ímpar. \n",
            "8 é um número par.\n",
            "9 é um número ímpar. \n",
            "10 é um número par.\n",
            "22 é um número par.\n",
            "50 é um número par.\n",
            "80 é um número par.\n",
            "100 é um número par.\n"
          ]
        }
      ],
      "source": [
        "# Exemplo de lista de números\n",
        "numeros = [1, 2, 3, 4, 5, 6, 7, 8, 9, 10, 22, 50, 80, 100]\n",
        "\n",
        "# Loop 'for' para percorrer a lista de números\n",
        "for numero in numeros:\n",
        "    # Condição 'if' para verificar se o número é par\n",
        "    if numero % 2 == 0:\n",
        "        print(f\"{numero} é um número par.\")\n",
        "    #Se a condição 'if' for falsa, executa o 'else'\n",
        "    else:\n",
        "        print(f\"{numero} é um número ímpar. \")"
      ]
    }
  ]
}